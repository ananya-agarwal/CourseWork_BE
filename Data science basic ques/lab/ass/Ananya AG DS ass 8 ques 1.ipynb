{
 "cells": [
  {
   "cell_type": "code",
   "execution_count": 40,
   "metadata": {},
   "outputs": [],
   "source": [
    "import pandas as pd\n",
    "import numpy as np"
   ]
  },
  {
   "cell_type": "code",
   "execution_count": 41,
   "metadata": {},
   "outputs": [],
   "source": [
    "def makeNewdf(filename):\n",
    "    proteins= pd.read_csv(filename)\n",
    "    newdf = pd.DataFrame()\n",
    "    \n",
    "    newdf['F1'] = np.array([string.count('N') for string in proteins.Sequence])\n",
    "    newdf['F2'] = np.array([string.count('H') for string in proteins.Sequence])\n",
    "    newdf['F3'] = np.array([string.count('Q') for string in proteins.Sequence])\n",
    "    newdf['F4'] = np.array([string.count('G') for string in proteins.Sequence])\n",
    "    newdf['F5'] = np.array([string.count('D') for string in proteins.Sequence])\n",
    "    newdf['F6'] = np.array([string.count('T') for string in proteins.Sequence])\n",
    "    \n",
    "    proteins.Class.replace(('+', '-'), (int(1), int(0)), inplace=True)\n",
    "    newdf['Class'] = proteins.Class\n",
    "    \n",
    "    name = 'result-102083036.csv'\n",
    "    newdf.to_csv(name)\n",
    "    return newdf "
   ]
  },
  {
   "cell_type": "code",
   "execution_count": 42,
   "metadata": {},
   "outputs": [],
   "source": [
    "#newdf = makeNewdf(r\"C:\\Users\\hp\\OneDrive - Dev Garg\\Documents\\ME\\SEM 5 online\\Data Science\\lab\\datasets\\proteinSequenceFile1.csv\")\n",
    "#newdf.head()"
   ]
  },
  {
   "cell_type": "code",
   "execution_count": 44,
   "metadata": {},
   "outputs": [
    {
     "name": "stdout",
     "output_type": "stream",
     "text": [
      "[]\n"
     ]
    }
   ],
   "source": [
    "#glob means globalthat is used to return all file paths\n",
    "#that match a specfc pattern here to search for all the files \n",
    "#starting from protein\n",
    "\n",
    "import glob,itertools,time,csv\n",
    "\n",
    "#Python’s Itertool is a module that provides various functions that work on iterators to produce complex iterators\n",
    "#here for running through both columns seq and class together within the proteinSeqfile\n",
    "\n",
    "#time module provides various time-related functions\n",
    "\n",
    "data=[]\n",
    "\n",
    "for file_name in glob.glob('Protein*'):\n",
    "    print(file_name)\n",
    "    input_df = pd.read_csv(file_name)\n",
    "    output_df = makeNewdf(file_name)\n",
    "    print(output_df.head())\n",
    "    \n",
    "    #log file creation\n",
    "    #error1\n",
    "    for (seq,cls) in zip(df['Sequence'],df['Class']):\n",
    "        if any(chr.isdigit() for chr in seq):\n",
    "            # print(seq,cls)\n",
    "            data.append([file_name,seq,cls])\n",
    "            \n",
    "#The w creates a new file or truncates an existing file, then opens it for writing only\n",
    "#while w+ opens it for both reading and writing       \n",
    "\n",
    "log = 'log-'+str(time.time())+'.csv'\n",
    "logfile  = open(log,'w+',newline='')\n",
    "\n",
    "#newline likhne se har row ke baad ek empty file naho aayegi\n",
    "\n",
    "with logfile:        \n",
    "    header = ['FileName,', 'Sequence,', 'Class']\n",
    "    writer = csv.DictWriter(logfile, fieldnames = header)\n",
    "    writer.writeheader()\n",
    "    write = csv.writer(logfile)\n",
    "    write.writerows(data)\n",
    "    \n",
    "print(data)"
   ]
  },
  {
   "cell_type": "code",
   "execution_count": null,
   "metadata": {},
   "outputs": [],
   "source": []
  }
 ],
 "metadata": {
  "interpreter": {
   "hash": "2db524e06e9f5f4ffedc911c917cb75e12dbc923643829bf417064a77eb14d37"
  },
  "kernelspec": {
   "display_name": "Python 3 (ipykernel)",
   "language": "python",
   "name": "python3"
  },
  "language_info": {
   "codemirror_mode": {
    "name": "ipython",
    "version": 3
   },
   "file_extension": ".py",
   "mimetype": "text/x-python",
   "name": "python",
   "nbconvert_exporter": "python",
   "pygments_lexer": "ipython3",
   "version": "3.9.7"
  }
 },
 "nbformat": 4,
 "nbformat_minor": 2
}
